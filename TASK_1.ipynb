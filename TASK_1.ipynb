{
 "cells": [
  {
   "cell_type": "markdown",
   "id": "04b4818d",
   "metadata": {},
   "source": [
    "# COMP41680 Assignment 1 - Task 1\n",
    "- Name: Shuhao Guan\n",
    "- StudentID: 20211120"
   ]
  },
  {
   "cell_type": "markdown",
   "id": "7b319b05",
   "metadata": {},
   "source": [
    "In this assignment we will collect detailed health data from the WHO Global Health Observatory open web API for four different indicators."
   ]
  },
  {
   "cell_type": "markdown",
   "id": "d28fc231",
   "metadata": {},
   "source": [
    "### https://www.who.int/data/gho/info/gho-odata-api"
   ]
  },
  {
   "cell_type": "markdown",
   "id": "b135aff1",
   "metadata": {},
   "source": [
    "### WHO Global Health Observatory"
   ]
  },
  {
   "cell_type": "markdown",
   "id": "02b23ba8",
   "metadata": {},
   "source": [
    "WHOSIS_000001 Life expectancy at birth (years)  \n",
    "WHOSIS_000002 Healthy life expectancy (HALE) at birth (years)   \n",
    "WHOSIS_000003 Neonatal mortality rate (per 1000 live births)   \n",
    "WHOSIS_000004 Adult mortality rate (probability of dying between 15 and 60 years per 1000 population)  "
   ]
  },
  {
   "cell_type": "code",
   "execution_count": 1,
   "id": "9624c1b8",
   "metadata": {},
   "outputs": [],
   "source": [
    "import json, requests, urllib\n",
    "from pathlib import Path\n",
    "# from datetime import datetime\n",
    "import pandas as pd\n",
    "from pandas import json_normalize"
   ]
  },
  {
   "cell_type": "markdown",
   "id": "67bad15d",
   "metadata": {},
   "source": [
    "Create directory for raw data storage, if it does not already exist:"
   ]
  },
  {
   "cell_type": "code",
   "execution_count": 2,
   "id": "50bfcf12",
   "metadata": {},
   "outputs": [],
   "source": [
    "dir_raw = Path(\"raw\")\n",
    "dir_raw.mkdir(parents=True, exist_ok=True)"
   ]
  },
  {
   "cell_type": "code",
   "execution_count": 3,
   "id": "25cded14",
   "metadata": {},
   "outputs": [],
   "source": [
    "l=['WHOSIS_000001','WHOSIS_000002','WHOSIS_000003','WHOSIS_000004']"
   ]
  },
  {
   "cell_type": "code",
   "execution_count": 4,
   "id": "288416b2",
   "metadata": {},
   "outputs": [],
   "source": [
    "# Life_expectancy_url='https://ghoapi.azureedge.net/api/WHOSIS_000001'\n",
    "# Healthy_expectancy_url='https://ghoapi.azureedge.net/api/WHOSIS_000002'\n",
    "# Neonatal_mortality_url='https://ghoapi.azureedge.net/api/WHOSIS_000003' #Neonatal mortality rate (per 1000 live births)\n",
    "# Adult_mortality_url='https://ghoapi.azureedge.net/api/WHOSIS_000004'#probability of dying between 15 and 60 years per 1000 population\n",
    "# l=[Life_expectancy_url,Healthy_expectancy_url,Neonatal_mortality_url,Adult_mortality_url]\n",
    "# for i in range(len(l)):\n",
    "#     json_normalize(json.loads(urllib.request.urlopen(l[i]).read().decode())['value']).set_index([\"Id\"]).to_json(\"raw/WHOSIS_00000\"+str(i+1)+\".json\")"
   ]
  },
  {
   "cell_type": "markdown",
   "id": "a995529e",
   "metadata": {},
   "source": [
    "### Data Collection"
   ]
  },
  {
   "cell_type": "code",
   "execution_count": 5,
   "id": "0877f746",
   "metadata": {},
   "outputs": [],
   "source": [
    "for i in l:\n",
    "    json_normalize(json.loads(urllib.request.urlopen('https://ghoapi.azureedge.net/api/'+i).read().decode())['value']).set_index([\"Id\"]).to_json(\"raw/\"+i+\".json\")"
   ]
  }
 ],
 "metadata": {
  "kernelspec": {
   "display_name": "Python 3 (ipykernel)",
   "language": "python",
   "name": "python3"
  },
  "language_info": {
   "codemirror_mode": {
    "name": "ipython",
    "version": 3
   },
   "file_extension": ".py",
   "mimetype": "text/x-python",
   "name": "python",
   "nbconvert_exporter": "python",
   "pygments_lexer": "ipython3",
   "version": "3.9.7"
  }
 },
 "nbformat": 4,
 "nbformat_minor": 5
}
